{
 "cells": [
  {
   "cell_type": "markdown",
   "id": "a587d20c",
   "metadata": {},
   "source": [
    "# Intro to Python"
   ]
  },
  {
   "cell_type": "code",
   "execution_count": null,
   "id": "2e4e2e45",
   "metadata": {},
   "outputs": [],
   "source": [
    "# There are 33 keywords in python\n",
    "import keyword\n",
    "print(keyword.kwlist)"
   ]
  },
  {
   "cell_type": "code",
   "execution_count": null,
   "id": "c4d9b939",
   "metadata": {},
   "outputs": [],
   "source": [
    "# Simple Calcy\n",
    "print(3 + 7)\n",
    "print(5 - 3)\n",
    "print(26 / 9)\n",
    "print(26 % 9)\n",
    "print(4 * 8)\n",
    "print(3 ** 3)\n",
    "print(26 // 9)\n",
    "print(\"Python is cool!\")"
   ]
  },
  {
   "cell_type": "markdown",
   "id": "3e2da750",
   "metadata": {},
   "source": [
    "## Variables in Python\n",
    "-Variables acts as a container to store data in memory space.\n",
    "\n",
    "-Variables are pointer towards object in python\n",
    "\n",
    "\n",
    "###### Important points to remeber while creating a variable\n",
    "\n",
    "-Python is case sensitive\n",
    "\n",
    "-If variable name involves more than 2 words, join those words with underscore.\n",
    "\n",
    "-Give meaningful name to variables\n",
    "\n",
    "-Variables can start with letters or underscore.\n",
    "\n",
    "-You cannot include special characters while creating a variable."
   ]
  },
  {
   "cell_type": "code",
   "execution_count": null,
   "id": "40c266d5",
   "metadata": {},
   "outputs": [],
   "source": [
    "# input() function\n",
    "\n",
    "# 1\n",
    "color = input(\"what is your favourite color?\")\n",
    "\n",
    "print(\"color=\", color)\n",
    "\n",
    "# 2\n",
    "anyname = input(\"what is your name?\")\n",
    "\n",
    "print(\"anyname=\", anyname)"
   ]
  },
  {
   "cell_type": "code",
   "execution_count": null,
   "id": "c65fd70b",
   "metadata": {},
   "outputs": [],
   "source": [
    "# By default, input() function in python takes values as a string\n",
    "\n",
    "a = input(\"Enter First Number\")\n",
    "b = input(\"Enter Second Number\")\n",
    "print(a + b)\n"
   ]
  },
  {
   "cell_type": "code",
   "execution_count": null,
   "id": "bbdaeb5c",
   "metadata": {},
   "outputs": [],
   "source": [
    "# int() is typecasting the sting in integer datatype\n",
    "\n",
    "a = int(input(\"Enter First Number\"))\n",
    "b = int(input(\"Enter Second Number\"))\n",
    "print(a + b)\n"
   ]
  },
  {
   "cell_type": "code",
   "execution_count": null,
   "id": "d20f8e6b",
   "metadata": {},
   "outputs": [],
   "source": [
    "print(\"Addition = \", a + b)\n",
    "print(\"Subtraction = \", a - b)\n",
    "print(\"Multiplion = \", a * b)\n",
    "print(\"Division = \", a / b)\n",
    "print(\"Floor Division = \", a // b)\n",
    "print(\"Modulo = \", a % b)\n"
   ]
  },
  {
   "cell_type": "markdown",
   "id": "fb529dff",
   "metadata": {},
   "source": [
    "# DataTypes And Variables\n",
    "\n",
    "*type() function tells us the datatype of the variable\n",
    "\n",
    "*Dynamically Typed Language =don't have to declare the datatype of variable\n"
   ]
  },
  {
   "cell_type": "code",
   "execution_count": null,
   "id": "4d248827",
   "metadata": {},
   "outputs": [],
   "source": [
    "age = \"Deepa\"\n",
    "print(type(age))\n",
    "\n",
    "age = 23\n",
    "print(type(age))\n"
   ]
  },
  {
   "cell_type": "markdown",
   "id": "cd477c82",
   "metadata": {},
   "source": [
    "### Numeric DataTypes -\n",
    "\n",
    "###### 1.Integer\n",
    " \n",
    "###### 2.Floating point(float)\n",
    " \n",
    "###### 3.Complex\n",
    "\n",
    "###### 3.String\n"
   ]
  },
  {
   "cell_type": "code",
   "execution_count": null,
   "id": "746cab97",
   "metadata": {},
   "outputs": [],
   "source": [
    "# TypeCasting\n",
    "# Integer\n",
    "print(int(10))\n",
    "print(int(10.78))\n",
    "print(int('12', 8))"
   ]
  },
  {
   "cell_type": "code",
   "execution_count": null,
   "id": "6adf9875",
   "metadata": {},
   "outputs": [],
   "source": [
    "# Floating point(float)\n",
    "\n",
    "print(float(23))\n",
    "print(float(23e003))\n",
    "print(float(23e-003))\n",
    "print(float(+1e6))"
   ]
  },
  {
   "cell_type": "code",
   "execution_count": null,
   "id": "4eab07bc",
   "metadata": {},
   "outputs": [],
   "source": [
    "# Complex\n",
    "\n",
    "print(complex(4, 5))\n",
    "print(complex(4.2, -5))\n",
    "print(complex(4.9j, 5j))\n",
    "print(complex(56))"
   ]
  },
  {
   "cell_type": "code",
   "execution_count": null,
   "id": "d289a11f",
   "metadata": {},
   "outputs": [],
   "source": [
    "# String DataType\n",
    "# Creating String\n",
    "s1 = 'Deepa'\n",
    "s2= \"Mahendra\"\n",
    "s3= '''Dixit'''\n",
    "s4= \"\"\" Lonavala\"\"\""
   ]
  },
  {
   "cell_type": "code",
   "execution_count": null,
   "id": "96b69118",
   "metadata": {},
   "outputs": [],
   "source": [
    "# Accesing characters\n",
    "\n",
    "a = 'Deepa'\n",
    "print(a[3])"
   ]
  },
  {
   "cell_type": "code",
   "execution_count": null,
   "id": "3b12524c",
   "metadata": {},
   "outputs": [],
   "source": [
    "b = 'The Burrow'\n",
    "\n",
    "# [] slice\n",
    "\n",
    "\"\"\"\n",
    "-10 -9 -8 -7 -6 -5 -4 -3 -2 -1\n",
    " T   h  e     B  u  r  r  o  w\n",
    " 0   1  2  3  4  5  6  7  8  9\n",
    "\"\"\"\n",
    "\n",
    "print(b[7])"
   ]
  },
  {
   "cell_type": "code",
   "execution_count": null,
   "id": "870ea8a0",
   "metadata": {},
   "outputs": [],
   "source": [
    "# [:] Range Slice\n",
    "\n",
    "print(b[0:7])  # will print elements between 0-7 excluding 7th\n",
    "print(b[:7])  # will print elements between 0-7 excluding 7th\n",
    "print(b[2:7])  # will print elements between 2-7 excluding 7th\n",
    "print(b[5:])  # will print elements starting from 5th element to the last element\n",
    "print(b[-6:-1])  # will print elements between -6 to -1\n",
    "print(b[0:7:2])  # will print elements between 0-7 by avoiding 2 elements after every element\n",
    "print(b[::-1])  # simply reverses the string\n",
    "print(b[::3])  # will leave 3 spaces after 1st valule"
   ]
  },
  {
   "cell_type": "markdown",
   "id": "8bd38444",
   "metadata": {},
   "source": [
    "### Operators on Strings\n",
    "\n",
    "###### 1.Concatenation +\n",
    "###### 2.Repetition *\n",
    "###### 3.in membership\n",
    "###### 4.not in membership"
   ]
  },
  {
   "cell_type": "code",
   "execution_count": null,
   "id": "b7114e4d",
   "metadata": {},
   "outputs": [],
   "source": [
    "# 1.Concatenation +\n",
    "x = \"Deepa \"\n",
    "y = \"Dixit\"\n",
    "print(x + y)\n",
    "\n",
    "# 2.Repetition *\n",
    "print(x * 5)\n",
    "\n",
    "# 3.in membership\n",
    "s = \"Deepa is a Python Developer\"\n",
    "print('Python' in s)\n",
    "\n",
    "# 4.not in membership\n",
    "print('Python' not in s)"
   ]
  },
  {
   "cell_type": "markdown",
   "id": "23689098",
   "metadata": {},
   "source": [
    "### Formatting Strings Using Escape Sequences\n"
   ]
  },
  {
   "cell_type": "code",
   "execution_count": null,
   "id": "38056190",
   "metadata": {},
   "outputs": [],
   "source": [
    "# \\n\n",
    "print('Numbers are \\n1 \\n2 \\n3')\n",
    "\n",
    "# \\t\n",
    "print(\"Numbers are 1 \\t2 \\t3\")\n",
    "\n",
    "# \\\\\n",
    "print('\\\\')\n",
    "\n",
    "# \\'\n",
    "print('\\'Python\\' is a Dynamically Typed Language')\n",
    "\n",
    "# \\\"\n",
    "print('\\\"Python\\\" is a Case Sensitive Language')\n"
   ]
  },
  {
   "cell_type": "code",
   "execution_count": null,
   "id": "ee5b5234",
   "metadata": {},
   "outputs": [],
   "source": [
    "# \\a\n",
    "print('\\a')  # it produces bell like sound mostly in python cmd"
   ]
  },
  {
   "cell_type": "markdown",
   "id": "2cc7e041",
   "metadata": {},
   "source": [
    "### Formatting Strings Using modulo Operators"
   ]
  },
  {
   "cell_type": "code",
   "execution_count": null,
   "id": "d95b72bc",
   "metadata": {},
   "outputs": [],
   "source": [
    "balltype = \"basketball\"\n",
    "result = \"hit\"\n",
    "print('I wondered why the %s was getting bigger. Then it %s me.' % (balltype, result))"
   ]
  },
  {
   "cell_type": "code",
   "execution_count": null,
   "id": "74e63292",
   "metadata": {},
   "outputs": [],
   "source": [
    "print(\"%20s\" % (\"Internshala\",))\n",
    "print(\"%-20s\" % (\"Internshala\",))\n",
    "print(\"%.5s\" % (\"Internshala\",))"
   ]
  },
  {
   "cell_type": "code",
   "execution_count": null,
   "id": "61b7be54",
   "metadata": {},
   "outputs": [],
   "source": [
    "p = 1\n",
    "q = 11\n",
    "r = 111\n",
    "print(\"p = %5d \\nq = %5d \\nr = %5d\" % (p, q, r))"
   ]
  },
  {
   "cell_type": "code",
   "execution_count": null,
   "id": "3ccf966e",
   "metadata": {},
   "outputs": [],
   "source": [
    "mynum = 3.1425\n",
    "print(\"%4.2f  is pi\" % (mynum,))"
   ]
  },
  {
   "cell_type": "markdown",
   "id": "da2d2137",
   "metadata": {},
   "source": [
    "### Other Methods for String Processing\n"
   ]
  },
  {
   "cell_type": "code",
   "execution_count": null,
   "id": "9c0c88b2",
   "metadata": {},
   "outputs": [],
   "source": [
    "str = 'internshala'\n",
    "\n",
    "print(str.capitalize())\n",
    "print(str.upper())\n",
    "print(str.lower())\n",
    "print(str.isalpha())\n",
    "print(str.isdigit())\n",
    "print(str.islower())\n",
    "print(str.isupper())\n",
    "print(str.index('shala'))"
   ]
  },
  {
   "cell_type": "code",
   "execution_count": null,
   "id": "af392d07",
   "metadata": {},
   "outputs": [],
   "source": [
    "w = \"methods of formmating in python programming\"\n",
    "\n",
    "print(w.title())\n",
    "print(w.find('in'))\n",
    "print(w.find('Pyt'))\n",
    "print(w.count('in'))\n",
    "print(w.index('for'))"
   ]
  },
  {
   "cell_type": "markdown",
   "id": "143aec03",
   "metadata": {},
   "source": [
    "### The Format Method THE MOST IMP\n",
    "### {}  is placeholder"
   ]
  },
  {
   "cell_type": "code",
   "execution_count": null,
   "id": "dc8c5a34",
   "metadata": {},
   "outputs": [],
   "source": [
    "name = \"Deepa\"\n",
    "age = 23\n",
    "pointer = 9.39\n",
    "\n",
    "print(\"My name is {} and my age is {} years\".format(name, age))\n",
    "\n",
    "print(\"My name is {} and my age is {} years\".format(age, name))\n",
    "\n",
    "print(\"My name is %s and my age is %d years\".format(name, age))\n",
    "\n",
    "print(\"My name is {:s} and my age is {:d} years\".format(name, age))\n",
    "\n",
    "print(\"My name is {} and my age is {} years and got {} pointer\".format(name, age, pointer))\n",
    "\n",
    "print(\"My name is {:s} and my age is {:d} years and got {:2.2f} pointer\".format(name, age, pointer))"
   ]
  },
  {
   "cell_type": "markdown",
   "id": "cf21ea83",
   "metadata": {},
   "source": [
    "###### pycharm suggested formating\n",
    "print(f\"My name is {name} and my age is {Age} years\")\n",
    "\n",
    "print(f\"My name is {name} and my age is {age} years and got {pointer} pointer\")\n"
   ]
  },
  {
   "cell_type": "code",
   "execution_count": null,
   "id": "36d21dba",
   "metadata": {},
   "outputs": [],
   "source": [
    "# end"
   ]
  }
 ],
 "metadata": {
  "kernelspec": {
   "display_name": "Python 3 (ipykernel)",
   "language": "python",
   "name": "python3"
  },
  "language_info": {
   "codemirror_mode": {
    "name": "ipython",
    "version": 3
   },
   "file_extension": ".py",
   "mimetype": "text/x-python",
   "name": "python",
   "nbconvert_exporter": "python",
   "pygments_lexer": "ipython3",
   "version": "3.9.13"
  }
 },
 "nbformat": 4,
 "nbformat_minor": 5
}
