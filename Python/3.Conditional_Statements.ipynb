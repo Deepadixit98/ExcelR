{
 "cells": [
  {
   "cell_type": "markdown",
   "id": "1e5fa59c",
   "metadata": {},
   "source": [
    "# Conditional Statements\n",
    "##### 1. if\n",
    "##### 2.else\n",
    "##### 3.elif"
   ]
  },
  {
   "cell_type": "markdown",
   "id": "f86e5cf1",
   "metadata": {},
   "source": [
    "### if expression"
   ]
  },
  {
   "cell_type": "code",
   "execution_count": null,
   "id": "9dd088ac",
   "metadata": {},
   "outputs": [],
   "source": [
    "userid = 'abc123'\n",
    "\n",
    "if userid == 'abc123':\n",
    "    print('Log in successful')   "
   ]
  },
  {
   "cell_type": "code",
   "execution_count": 3,
   "id": "640d0776",
   "metadata": {},
   "outputs": [
    {
     "name": "stdout",
     "output_type": "stream",
     "text": [
      "Enter price Rs. :500\n",
      "Enter quantity no. :3\n",
      "yayy..........a discout of 10% is applicable !\n",
      "Your total amount is Rs. : 1350.0\n"
     ]
    }
   ],
   "source": [
    "# Ex2\n",
    "price = int(input('Enter price Rs. :'))\n",
    "qty = int(input('Enter quantity no. :'))\n",
    "amt = price * qty\n",
    "\n",
    "if amt > 1000:\n",
    "    print(\"yayy..........a discout of 10% is applicable !\")\n",
    "    discount = amt * 0.1\n",
    "    amt = amt - discount\n",
    "\n",
    "print('Your total amount is Rs. :', amt)"
   ]
  },
  {
   "cell_type": "markdown",
   "id": "856352c8",
   "metadata": {},
   "source": [
    "### if - else condition"
   ]
  },
  {
   "cell_type": "code",
   "execution_count": null,
   "id": "17e63a64",
   "metadata": {},
   "outputs": [],
   "source": [
    "# Ex1\n",
    "userid = 'abc1'\n",
    "\n",
    "if userid == 'abc123':\n",
    "    print('Log in successful')  \n",
    "else:\n",
    "    print('Try again')"
   ]
  },
  {
   "cell_type": "code",
   "execution_count": null,
   "id": "70842930",
   "metadata": {},
   "outputs": [],
   "source": [
    "# Ex2\n",
    "#Check whether the player is Virat kolhi\n",
    "player_name = input('Enter players name: ')\n",
    "\n",
    "if player_name == 'Virat':\n",
    "    print('Yes')\n",
    "else:\n",
    "    print('No')"
   ]
  },
  {
   "cell_type": "markdown",
   "id": "0a0e768a",
   "metadata": {},
   "source": [
    "### elif condition"
   ]
  },
  {
   "cell_type": "code",
   "execution_count": null,
   "id": "1f414d0a",
   "metadata": {},
   "outputs": [],
   "source": [
    "#Check whether the number is positive/negative/Zero\n",
    "\n",
    "number = int(input('Enter any number: '))\n",
    "\n",
    "if number > 0:\n",
    "    print('Positive')\n",
    "elif number < 0:\n",
    "    print('Negative')\n",
    "else:\n",
    "    print('Zero')"
   ]
  },
  {
   "cell_type": "markdown",
   "id": "e50c71a8",
   "metadata": {},
   "source": [
    "##### Format"
   ]
  },
  {
   "cell_type": "code",
   "execution_count": null,
   "id": "352f26d9",
   "metadata": {},
   "outputs": [],
   "source": [
    "print(f\"Hi ,how are you {name}?\")"
   ]
  },
  {
   "cell_type": "markdown",
   "id": "f6a767da",
   "metadata": {},
   "source": [
    "###### Task:-\n",
    "-Take input from user, name, age, location,designation\n",
    "\n",
    "-Write this sentence: My name is 'name'. I am 'age' years old. I live in 'location'. I work as 'designation'"
   ]
  },
  {
   "cell_type": "code",
   "execution_count": null,
   "id": "e64cb33e",
   "metadata": {},
   "outputs": [],
   "source": [
    "name = input('Enter your name: ')\n",
    "age = int(input('Enter your age: '))\n",
    "location = input('Enter your location: ')\n",
    "designation = input('Enter your designation: ')\n",
    "\n",
    "#print('My name is',name,'I am ',age,'years old')\n",
    "print(f\"My name is {name}. I am {age} years old. I live in {location}.I work as {designation}\")"
   ]
  },
  {
   "cell_type": "markdown",
   "id": "619bb6be",
   "metadata": {},
   "source": [
    "## In-Class Exercise:\n",
    "\n",
    "1. Write a program which will print Century if the player has made more than 100 runs else it shold write how many more runs he needs to have to complete the century.\n",
    "2. Write a program to check the number is one digited, two digited and three digited.\n",
    "3. Write a program to check whether the user has entered number 99 or not."
   ]
  },
  {
   "cell_type": "code",
   "execution_count": null,
   "id": "0dc27281",
   "metadata": {},
   "outputs": [],
   "source": [
    "#1 \n",
    "runs = int(input('Enter runs: '))\n",
    "\n",
    "if runs >= 100:\n",
    "    print('Century')\n",
    "else:\n",
    "    print(f\"You need to make more {100-runs} runs.\")"
   ]
  },
  {
   "cell_type": "code",
   "execution_count": null,
   "id": "2af5d2c4",
   "metadata": {},
   "outputs": [],
   "source": [
    "# 2\n",
    "num = int(input('Enter any number: '))\n",
    "\n",
    "if num < 10:\n",
    "    print('One digited')\n",
    "elif (num >= 10 and num <100 ):\n",
    "    print('Two digited')\n",
    "elif (num >=100 and num < 1000):\n",
    "    print('Three digited')\n",
    "else:\n",
    "    print('Invalid')"
   ]
  },
  {
   "cell_type": "code",
   "execution_count": null,
   "id": "a5ea8daa",
   "metadata": {},
   "outputs": [],
   "source": [
    "# 3\n",
    "number = int(input('Enter number: '))\n",
    "\n",
    "if number == 99:\n",
    "    print('Yes')\n",
    "else:\n",
    "    print('No')"
   ]
  },
  {
   "cell_type": "code",
   "execution_count": null,
   "id": "5dec4e5f",
   "metadata": {},
   "outputs": [],
   "source": []
  }
 ],
 "metadata": {
  "kernelspec": {
   "display_name": "Python 3 (ipykernel)",
   "language": "python",
   "name": "python3"
  },
  "language_info": {
   "codemirror_mode": {
    "name": "ipython",
    "version": 3
   },
   "file_extension": ".py",
   "mimetype": "text/x-python",
   "name": "python",
   "nbconvert_exporter": "python",
   "pygments_lexer": "ipython3",
   "version": "3.9.13"
  }
 },
 "nbformat": 4,
 "nbformat_minor": 5
}
