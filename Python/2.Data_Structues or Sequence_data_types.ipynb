{
 "cells": [
  {
   "cell_type": "markdown",
   "id": "88263366",
   "metadata": {},
   "source": [
    "# Data Structures\n",
    "1. Lists\n",
    "2. Tuple\n",
    "3. Dictionary\n",
    "4. Sets"
   ]
  },
  {
   "cell_type": "markdown",
   "id": "4fa33be6",
   "metadata": {},
   "source": [
    "### 1.List\n",
    "\n",
    "- Lists are the built in data structures in python.\n",
    "- Lists are ordered and heterogenous data      structure.\n",
    "- Lists are mutable.\n",
    "\n",
    "### 2.Tuple\n",
    "\n",
    "- Tuples are ordered and heterogenous data structure.\n",
    "- Tuples are immutable."
   ]
  },
  {
   "cell_type": "code",
   "execution_count": null,
   "id": "bb487570",
   "metadata": {},
   "outputs": [],
   "source": [
    "# Lists And Tuple\n",
    "# Creating lists and Tuple\n",
    "\n",
    "# List\n",
    "list = [1, 'Python', 2, 4, 5, 'Java', 'c#', 'c++']\n",
    "print(list)\n"
   ]
  },
  {
   "cell_type": "code",
   "execution_count": null,
   "id": "0c170bbe",
   "metadata": {},
   "outputs": [],
   "source": [
    "# Tuple\n",
    "Tuple = ('basic', 'python', 'programming ', 'module', 2, 3, 4, 5,)\n",
    "print(Tuple)\n",
    "\n",
    "t1 = (23,)  # single valued tuple\n",
    "print(t1)\n",
    "\n",
    "t2 = ()  # Empty tuple\n",
    "print(t2)"
   ]
  },
  {
   "cell_type": "code",
   "execution_count": null,
   "id": "86702559",
   "metadata": {},
   "outputs": [],
   "source": [
    "# Accessing lists and Tuple\n",
    "\n",
    "print(list[4])\n",
    "print(Tuple[2])"
   ]
  },
  {
   "cell_type": "markdown",
   "id": "255386af",
   "metadata": {},
   "source": [
    "## Operations on Lists And Tuples\n",
    "#### 1.Concatenation +\n"
   ]
  },
  {
   "cell_type": "code",
   "execution_count": null,
   "id": "a3afb631",
   "metadata": {},
   "outputs": [],
   "source": [
    "# list\n",
    "\n",
    "#               0         1          2        3       4\n",
    "founders = [\"Iron Man\", \"Thor\", \"Ant-Man\", \"Hulk\", \"Wasp\"]\n",
    "#             -5         -4         -3        -2     -1\n",
    "\n",
    "\n",
    "#               0                  1\n",
    "recruits = [\"Captain America\", \"Hawkeye\"]\n",
    "#               -2               -1\n",
    "print(founders + recruits)\n",
    "\n"
   ]
  },
  {
   "cell_type": "code",
   "execution_count": null,
   "id": "0f72091a",
   "metadata": {},
   "outputs": [],
   "source": [
    "# Tuple\n",
    "\n",
    "#         0         1          2        3       4        5\n",
    "stark = (\"Ned\", \"Catelyn\", \"Brandon\", \"Sansa\", \"Arya\", \"Robb\")\n",
    "#         -6       -5         -4         -3        -2     -1\n",
    "\n",
    "\n",
    "#             0        1        2        3\n",
    "mormont = (\"Jeor\", \"Maege\", \"Jorah\", \"Lyanna\")\n",
    "#            -4       -3      -2         -1\n",
    "\n",
    "\n",
    "print(stark + mormont)"
   ]
  },
  {
   "cell_type": "markdown",
   "id": "9959577e",
   "metadata": {},
   "source": [
    "#### 2.Repetition *\n"
   ]
  },
  {
   "cell_type": "code",
   "execution_count": null,
   "id": "8f4cc5cb",
   "metadata": {},
   "outputs": [],
   "source": [
    "# list\n",
    "dna = [\"G\", \"A\", \"T\", \"C\"]\n",
    "print(dna * 3)"
   ]
  },
  {
   "cell_type": "code",
   "execution_count": null,
   "id": "efb2805e",
   "metadata": {},
   "outputs": [],
   "source": [
    "# Tuple\n",
    "glucose = (\"C6\", \"H12\", \"O6\")\n",
    "print(glucose * 6)"
   ]
  },
  {
   "cell_type": "markdown",
   "id": "3ac353dd",
   "metadata": {},
   "source": [
    "##### Slicing and Range in Data structures :\n",
    "###### [] slice"
   ]
  },
  {
   "cell_type": "code",
   "execution_count": null,
   "id": "ab644b9e",
   "metadata": {},
   "outputs": [],
   "source": [
    "# list\n",
    "print(founders[3])\n",
    "print(founders[-3])\n",
    "\n",
    "# Tuple\n",
    "print(stark[2])\n",
    "print(stark[-1])"
   ]
  },
  {
   "cell_type": "markdown",
   "id": "303b7233",
   "metadata": {},
   "source": [
    "###### [:] Range\n",
    " "
   ]
  },
  {
   "cell_type": "code",
   "execution_count": null,
   "id": "eabe95ec",
   "metadata": {},
   "outputs": [],
   "source": [
    "# list\n",
    "#               0         1          2        3       4           5              6\n",
    "avengers = [\"Iron Man\", \"Thor\", \"Ant-Man\", \"Hulk\", \"Wasp\", \"Captain America\", \"Hawkeye\"]\n",
    "#              -7        -6         -5       -4       -3          -2            -1\n",
    "\n",
    "print(avengers[2:5])\n",
    "print(avengers[3:])\n",
    "print(avengers[:3])\n",
    "print(avengers[-7:3])\n",
    "print(avengers[1:-3])"
   ]
  },
  {
   "cell_type": "code",
   "execution_count": null,
   "id": "92183c87",
   "metadata": {},
   "outputs": [],
   "source": [
    "# Tuple\n",
    "#        0        1          2        3        4       5       6        7       8         9\n",
    "got = (\"Ned\", \"Catelyn\", \"Brandon\", \"Sansa\", \"Arya\", \"Robb\", \"Jeor\", \"Maege\", \"Jorah\", \"Lyanna\")\n",
    "#       -10      -9          -8       -7       -6      -5      -4       -3       -2       -1\n",
    "\n",
    "print(got[1:4])\n",
    "print(got[3:])\n",
    "print(got[4:])\n",
    "print(got[-7:3])\n",
    "print(got[1:-3])"
   ]
  },
  {
   "cell_type": "markdown",
   "id": "9330efc2",
   "metadata": {},
   "source": [
    "#### 3.in membership"
   ]
  },
  {
   "cell_type": "code",
   "execution_count": null,
   "id": "c4765be9",
   "metadata": {},
   "outputs": [],
   "source": [
    "# list\n",
    "print(\"Wasp\" in avengers)\n",
    "print(\"Black Widow\" in avengers)"
   ]
  },
  {
   "cell_type": "code",
   "execution_count": null,
   "id": "ab24da05",
   "metadata": {},
   "outputs": [],
   "source": [
    "# Tuple\n",
    "print(\"Arya\" in got)\n",
    "print(\"Jon\" in got)"
   ]
  },
  {
   "cell_type": "markdown",
   "id": "cb57e56a",
   "metadata": {},
   "source": [
    "#### 4.not in membership"
   ]
  },
  {
   "cell_type": "code",
   "execution_count": null,
   "id": "3c0b5442",
   "metadata": {},
   "outputs": [],
   "source": [
    "# list\n",
    "print(\"Wasp\" not in avengers)\n",
    "print(\"Black Widow\" not in avengers)"
   ]
  },
  {
   "cell_type": "code",
   "execution_count": null,
   "id": "90e34529",
   "metadata": {},
   "outputs": [],
   "source": [
    "# Tuple\n",
    "print(\"Arya\" not in got)\n",
    "print(\"Jon\" not in got)"
   ]
  },
  {
   "cell_type": "markdown",
   "id": "ebce1cfc",
   "metadata": {},
   "source": [
    "### Built in Functions for Lists & Tuple\n",
    "\n",
    "- by typing \"lst.\" and pressing \"tab key\" ..you will be able to see the fuctions that can be applied to the list "
   ]
  },
  {
   "cell_type": "code",
   "execution_count": null,
   "id": "fa48c56d",
   "metadata": {},
   "outputs": [],
   "source": [
    "L2 = ['Tailor Swift', 'Ed Sheeran', 'Imagine Dragons', 'Pink', 'Maroon 5']\n",
    "\n",
    "# len()\n",
    "print(len(L2))\n",
    "\n",
    "# min()\n",
    "print(min(L2))\n",
    "\n",
    "# max()\n",
    "print(max(L2))\n",
    "\n",
    "# append()\n",
    "L2.append('Halsey')\n",
    "print(L2)\n",
    "\n",
    "# insert()\n",
    "L2.insert(2, 'Diamond')\n",
    "print(L2)\n",
    "\n",
    "# remove()\n",
    "L2.remove('Imagine Dragons')\n",
    "print(L2)\n",
    "\n",
    "# pop()\n",
    "L2.pop()\n",
    "print(L2)\n",
    "\n",
    "# reverse()\n",
    "L2.reverse()\n",
    "print(L2)\n",
    "\n",
    "# sort()\n",
    "L2.sort()\n",
    "print(L2)\n",
    "L2.sort(reverse=True)\n",
    "print(L2)\n",
    "\n",
    "# tuple()\n",
    "s1 = \"Internshala\"\n",
    "print(tuple(s1))\n",
    "L = ['C++', 'Java', 'Python', 'Ruby']\n",
    "print(tuple(L))"
   ]
  },
  {
   "cell_type": "code",
   "execution_count": null,
   "id": "281ca23d",
   "metadata": {},
   "outputs": [],
   "source": [
    "# list()\n",
    "t1 = ('basic', 'python', 'programming ', 'module', 2, 3, 4, 5,)\n",
    "print(list(t1))"
   ]
  },
  {
   "cell_type": "code",
   "execution_count": null,
   "id": "ec210afa",
   "metadata": {},
   "outputs": [],
   "source": [
    "#  Values w.r.t Person\n",
    "name = 'Deepa'\n",
    "age = 23\n",
    "height = 4.9\n",
    "position = 'Student'\n",
    "\n",
    "mylist = [name, age, height, position]"
   ]
  },
  {
   "cell_type": "code",
   "execution_count": null,
   "id": "82b3de3c",
   "metadata": {},
   "outputs": [],
   "source": [
    "print(mylist)"
   ]
  },
  {
   "cell_type": "code",
   "execution_count": null,
   "id": "6346837f",
   "metadata": {},
   "outputs": [],
   "source": [
    "for items in mylist:\n",
    "    print(items, type(items))"
   ]
  },
  {
   "cell_type": "markdown",
   "id": "466c0348",
   "metadata": {},
   "source": [
    "### 3.Dictionary\n",
    "\n",
    "- Python dictionaries are ordered collection of items.\n",
    "- Dictionary is mutable data structure.\n",
    "- It has key and value pair."
   ]
  },
  {
   "cell_type": "code",
   "execution_count": 3,
   "id": "3c535925",
   "metadata": {},
   "outputs": [
    {
     "name": "stdout",
     "output_type": "stream",
     "text": [
      "{'England': 'Root', 'Australia': 'Smith', 'India': 'Virat', 'Pakistan': 'Sarfraz'}\n"
     ]
    }
   ],
   "source": [
    "# Creating,Accessing and updating Dictionary DataType\n",
    "\n",
    "captains={'England': 'Root', 'Australia': 'Smith', 'India': 'Virat', 'Pakistan':'Sarfraz'}  # Creating\n",
    "\n",
    "print(captains)"
   ]
  },
  {
   "cell_type": "code",
   "execution_count": 4,
   "id": "588c257e",
   "metadata": {},
   "outputs": [
    {
     "name": "stdout",
     "output_type": "stream",
     "text": [
      "Smith\n"
     ]
    }
   ],
   "source": [
    "# Accessing\n",
    "print(captains.get('Australia'))     "
   ]
  },
  {
   "cell_type": "code",
   "execution_count": 5,
   "id": "4cf81328",
   "metadata": {},
   "outputs": [
    {
     "name": "stdout",
     "output_type": "stream",
     "text": [
      "{'England': 1, 'Australia': 'Smith', 'India': 'Virat', 'Pakistan': 'Sarfraz'}\n",
      "1\n"
     ]
    }
   ],
   "source": [
    "# Updating\n",
    "\n",
    "captains['England'] = 1           \n",
    "\n",
    "print(captains)\n",
    "print(captains['England'])"
   ]
  },
  {
   "cell_type": "markdown",
   "id": "05ad8dc7",
   "metadata": {},
   "source": [
    "### Built in Functions For Dictionary\n",
    "- by typing \"dict.\" and pressing \"tab key\" ..you will be able to see the fuctions that can be applied to the dictionary."
   ]
  },
  {
   "cell_type": "code",
   "execution_count": 7,
   "id": "bac2334e",
   "metadata": {},
   "outputs": [
    {
     "ename": "NameError",
     "evalue": "name 'captains' is not defined",
     "output_type": "error",
     "traceback": [
      "\u001b[1;31m---------------------------------------------------------------------------\u001b[0m",
      "\u001b[1;31mNameError\u001b[0m                                 Traceback (most recent call last)",
      "\u001b[1;32m~\\AppData\\Local\\Temp\\ipykernel_37092\\2277694266.py\u001b[0m in \u001b[0;36m<module>\u001b[1;34m\u001b[0m\n\u001b[0;32m      1\u001b[0m \u001b[1;31m# len()\u001b[0m\u001b[1;33m\u001b[0m\u001b[1;33m\u001b[0m\u001b[0m\n\u001b[1;32m----> 2\u001b[1;33m \u001b[0mprint\u001b[0m\u001b[1;33m(\u001b[0m\u001b[0mlen\u001b[0m\u001b[1;33m(\u001b[0m\u001b[0mcaptains\u001b[0m\u001b[1;33m)\u001b[0m\u001b[1;33m)\u001b[0m\u001b[1;33m\u001b[0m\u001b[1;33m\u001b[0m\u001b[0m\n\u001b[0m\u001b[0;32m      3\u001b[0m \u001b[1;33m\u001b[0m\u001b[0m\n\u001b[0;32m      4\u001b[0m \u001b[1;31m# min()\u001b[0m\u001b[1;33m\u001b[0m\u001b[1;33m\u001b[0m\u001b[0m\n\u001b[0;32m      5\u001b[0m \u001b[0mprint\u001b[0m\u001b[1;33m(\u001b[0m\u001b[0mmin\u001b[0m\u001b[1;33m(\u001b[0m\u001b[0mcaptains\u001b[0m\u001b[1;33m)\u001b[0m\u001b[1;33m)\u001b[0m\u001b[1;33m\u001b[0m\u001b[1;33m\u001b[0m\u001b[0m\n",
      "\u001b[1;31mNameError\u001b[0m: name 'captains' is not defined"
     ]
    }
   ],
   "source": [
    "# len()\n",
    "print(len(captains))\n",
    "\n",
    "# min()\n",
    "print(min(captains))\n",
    "\n",
    "# max()\n",
    "print(max(captains))\n",
    "\n",
    "# pop()\n",
    "captains.pop('Pakistan')\n",
    "print(captains)\n",
    "\n",
    "# items()\n",
    "print(captains.items())\n",
    "\n",
    "# value()\n",
    "print(captains.values())\n",
    "\n",
    "# key()\n",
    "print(captains.keys())\n",
    "\n",
    "# clear()\n",
    "captains={'England': 'Root', 'Australia': 'Smith', 'India': 'Virat', 'Pakistan':'Sarfraz'}\n",
    "captains.clear()\n",
    "print(captains)\n",
    "\n",
    "#  update\n",
    "captains={'England': 'Root', 'Australia': 'Smith', 'India': 'Virat', 'Pakistan':'Sarfraz'}\n",
    "captains.update({'WI': \"Holder\"})\n",
    "print(captains)\n",
    "\n",
    "# del()\n",
    "\n",
    "del captains ['England']\n",
    "print(captains)\n",
    "\n",
    "del captains\n",
    "print(captains)"
   ]
  },
  {
   "cell_type": "markdown",
   "id": "dc3109d4",
   "metadata": {},
   "source": [
    "### 4.Set\n",
    "- Set is a collection which is unordered,unindexed.\n",
    "- Set is immutable.\n",
    "- Sets are unordered, so you cannot be sure in which order the items will appear.\n",
    "- Sets do not allow duplicate values.\n",
    "- Once a set is created, you cannot change its items, but you can remove items and add new items.\n",
    "- As sets are unordered, they do not support indexing and slicing operations.\n"
   ]
  },
  {
   "cell_type": "code",
   "execution_count": 8,
   "id": "33cee65d",
   "metadata": {},
   "outputs": [
    {
     "name": "stdout",
     "output_type": "stream",
     "text": [
      "{1, 75.5, 'Ravi'}\n",
      "<class 'set'>\n",
      "{40, 10, 50, 23}\n"
     ]
    }
   ],
   "source": [
    "# Creating set DataType\n",
    "S1 = {1, \"Ravi\", 75.50}\n",
    "print(S1)\n",
    "print(type(S1))\n",
    "\n",
    "S2 = {10, 23, 40, 23, 50, 10}\n",
    "print(S2)"
   ]
  },
  {
   "cell_type": "markdown",
   "id": "42395c0e",
   "metadata": {},
   "source": [
    "### Built in Functions for Set DataType\n",
    "- by typing \"set.\" and pressing \"tab key\" ..you will be able to see the fuctions that can be applied to the set."
   ]
  },
  {
   "cell_type": "code",
   "execution_count": 20,
   "id": "ef6b3bb7",
   "metadata": {},
   "outputs": [
    {
     "data": {
      "text/plain": [
       "{1, 2, 3, 4, 10.5}"
      ]
     },
     "execution_count": 20,
     "metadata": {},
     "output_type": "execute_result"
    }
   ],
   "source": [
    "#creating an empty set\n",
    "\n",
    "s = {1,2,3,4,10.5}\n",
    "s"
   ]
  },
  {
   "cell_type": "code",
   "execution_count": 21,
   "id": "1d010179",
   "metadata": {},
   "outputs": [
    {
     "data": {
      "text/plain": [
       "{1, 2, 3, 4, 5}"
      ]
     },
     "execution_count": 21,
     "metadata": {},
     "output_type": "execute_result"
    }
   ],
   "source": [
    "#Does not allow duplicate items\n",
    "s = {1,1,2,3,4,5,5}\n",
    "s"
   ]
  },
  {
   "cell_type": "code",
   "execution_count": 22,
   "id": "805d8e47",
   "metadata": {},
   "outputs": [
    {
     "ename": "TypeError",
     "evalue": "'set' object is not subscriptable",
     "output_type": "error",
     "traceback": [
      "\u001b[1;31m---------------------------------------------------------------------------\u001b[0m",
      "\u001b[1;31mTypeError\u001b[0m                                 Traceback (most recent call last)",
      "\u001b[1;32m~\\AppData\\Local\\Temp\\ipykernel_37092\\2875943081.py\u001b[0m in \u001b[0;36m<module>\u001b[1;34m\u001b[0m\n\u001b[0;32m      1\u001b[0m \u001b[1;31m#Does not support indexing\u001b[0m\u001b[1;33m\u001b[0m\u001b[1;33m\u001b[0m\u001b[0m\n\u001b[1;32m----> 2\u001b[1;33m \u001b[0ms\u001b[0m\u001b[1;33m[\u001b[0m\u001b[1;36m2\u001b[0m\u001b[1;33m]\u001b[0m\u001b[1;33m\u001b[0m\u001b[1;33m\u001b[0m\u001b[0m\n\u001b[0m",
      "\u001b[1;31mTypeError\u001b[0m: 'set' object is not subscriptable"
     ]
    }
   ],
   "source": [
    "#Does not support indexing\n",
    "s[2]"
   ]
  },
  {
   "cell_type": "code",
   "execution_count": 23,
   "id": "7596e9dd",
   "metadata": {},
   "outputs": [
    {
     "name": "stdout",
     "output_type": "stream",
     "text": [
      "{'t', 'a', 'r', 'I', 'n', 's', 'l', 'e', 'h'}\n",
      "{67, 36, 45, 87, 55}\n",
      "{25, 10, 15}\n"
     ]
    }
   ],
   "source": [
    "# set()\n",
    "S3 = set(\"Internshala\")\n",
    "print(S3)\n",
    "\n",
    "S4 = set([45, 67, 87, 36, 55])\n",
    "print(S4)\n",
    "\n",
    "S3 = set((10, 25, 15))\n",
    "print(S3)\n"
   ]
  },
  {
   "cell_type": "code",
   "execution_count": 24,
   "id": "7414305e",
   "metadata": {},
   "outputs": [
    {
     "name": "stdout",
     "output_type": "stream",
     "text": [
      "{'Java', 'C++', 'Python'}\n",
      "{'Perl', 'Java', 'C++', 'Python'}\n"
     ]
    }
   ],
   "source": [
    "# add()\n",
    "S1 = set({\"Python\", \"Java\", \"C++\"})\n",
    "print(S1)\n",
    "\n",
    "S1.add(\"Perl\")\n",
    "print(S1)"
   ]
  },
  {
   "cell_type": "code",
   "execution_count": 25,
   "id": "2684d392",
   "metadata": {},
   "outputs": [
    {
     "name": "stdout",
     "output_type": "stream",
     "text": [
      "{'Basic', 'Java', 'C++', 'Python'}\n",
      "{'Ruby', 'C++', 'Java', 'PHP', 'Python', 'Basic'}\n"
     ]
    }
   ],
   "source": [
    "# update()\n",
    "S1 = {\"Python\", \"Java\", \"C++\"}\n",
    "S1.update([\"C++\", \"Basic\"])\n",
    "print(S1)\n",
    "\n",
    "S1.update([\"Ruby\", \"PHP\"])\n",
    "print(S1)"
   ]
  },
  {
   "cell_type": "code",
   "execution_count": 26,
   "id": "71cb6a41",
   "metadata": {},
   "outputs": [
    {
     "name": "stdout",
     "output_type": "stream",
     "text": [
      "{'Ruby', 'C++', 'Java', 'PHP', 'Python', 'Basic'}\n"
     ]
    }
   ],
   "source": [
    "# copy()\n",
    "S2 = S1.copy()\n",
    "print(S2)"
   ]
  },
  {
   "cell_type": "code",
   "execution_count": 27,
   "id": "76a77406",
   "metadata": {},
   "outputs": [
    {
     "name": "stdout",
     "output_type": "stream",
     "text": [
      "{'Ruby', 'C++', 'PHP', 'Python', 'Basic'}\n",
      "{'Ruby', 'C++', 'PHP', 'Python', 'Basic'}\n"
     ]
    }
   ],
   "source": [
    "# discard()\n",
    "S1.discard(\"Java\")\n",
    "print(S1)\n",
    "\n",
    "S1.discard(\"SQL\")\n",
    "print(S1)"
   ]
  },
  {
   "cell_type": "code",
   "execution_count": 28,
   "id": "b27a02f3",
   "metadata": {},
   "outputs": [
    {
     "name": "stdout",
     "output_type": "stream",
     "text": [
      "{'Java', 'Python'}\n"
     ]
    }
   ],
   "source": [
    "# remove\n",
    "S1 = {\"Python\", \"Java\", \"C++\"}\n",
    "S1.remove(\"C++\")\n",
    "print(S1)"
   ]
  },
  {
   "cell_type": "code",
   "execution_count": 29,
   "id": "4a85870c",
   "metadata": {},
   "outputs": [
    {
     "name": "stdout",
     "output_type": "stream",
     "text": [
      "set()\n"
     ]
    }
   ],
   "source": [
    "# clear()\n",
    "S1.clear()\n",
    "print(S1)"
   ]
  },
  {
   "cell_type": "markdown",
   "id": "2ea313e7",
   "metadata": {},
   "source": [
    "### Set Operations"
   ]
  },
  {
   "attachments": {
    "download.png": {
     "image/png": "[encoded data removed]"
    }
   },
   "cell_type": "markdown",
   "id": "4244db7e",
   "metadata": {},
   "source": [
    "![download.png](attachment:download.png)"
   ]
  },
  {
   "cell_type": "code",
   "execution_count": 30,
   "id": "86382157",
   "metadata": {},
   "outputs": [
    {
     "name": "stdout",
     "output_type": "stream",
     "text": [
      "{1, 2, 3, 4, 5, 6, 7, 8}\n",
      "{1, 2, 3, 4, 5, 6, 7, 8}\n"
     ]
    }
   ],
   "source": [
    "# Union\n",
    "s1 = {1, 2, 3, 4, 5}\n",
    "s2 = {4, 5, 6, 7, 8}\n",
    "print(s1 | s2)\n",
    "print(s1.union(s2))"
   ]
  },
  {
   "cell_type": "code",
   "execution_count": 31,
   "id": "5074fe44",
   "metadata": {},
   "outputs": [
    {
     "name": "stdout",
     "output_type": "stream",
     "text": [
      "{4, 5}\n",
      "{4, 5}\n"
     ]
    }
   ],
   "source": [
    "# Intersection\n",
    "s1 = {1, 2, 3, 4, 5}\n",
    "s2 = {4, 5, 6, 7, 8}\n",
    "print(s1 & s2)\n",
    "\n",
    "print(s1.intersection(s2))"
   ]
  },
  {
   "cell_type": "code",
   "execution_count": 32,
   "id": "aa7b24f5",
   "metadata": {},
   "outputs": [
    {
     "name": "stdout",
     "output_type": "stream",
     "text": [
      "{1, 2, 3}\n",
      "{8, 6, 7}\n",
      "{1, 2, 3}\n",
      "{8, 6, 7}\n"
     ]
    }
   ],
   "source": [
    "# Difference\n",
    "s1 = {1, 2, 3, 4, 5}\n",
    "s2 = {4, 5, 6, 7, 8}\n",
    "\n",
    "print(s1 - s2)\n",
    "print(s2 - s1)\n",
    "\n",
    "print(s1.difference(s2))\n",
    "print(s2.difference(s1))"
   ]
  },
  {
   "cell_type": "code",
   "execution_count": 33,
   "id": "35ba70aa",
   "metadata": {},
   "outputs": [
    {
     "name": "stdout",
     "output_type": "stream",
     "text": [
      "{1, 2, 3, 6, 7, 8}\n",
      "{1, 2, 3, 6, 7, 8}\n",
      "{1, 2, 3, 6, 7, 8}\n",
      "{1, 2, 3, 6, 7, 8}\n"
     ]
    }
   ],
   "source": [
    "# Symmetric Difference\n",
    "s1 = {1, 2, 3, 4, 5}\n",
    "s2 = {4, 5, 6, 7, 8}\n",
    "\n",
    "print(s1 ^ s2)\n",
    "print(s2 ^ s1)\n",
    "\n",
    "print(s1.symmetric_difference(s2))\n",
    "print(s2.symmetric_difference(s1))"
   ]
  },
  {
   "cell_type": "code",
   "execution_count": 34,
   "id": "373a8b61",
   "metadata": {},
   "outputs": [],
   "source": [
    "# end"
   ]
  },
  {
   "cell_type": "code",
   "execution_count": null,
   "id": "f578ca1c",
   "metadata": {},
   "outputs": [],
   "source": []
  }
 ],
 "metadata": {
  "kernelspec": {
   "display_name": "Python 3 (ipykernel)",
   "language": "python",
   "name": "python3"
  },
  "language_info": {
   "codemirror_mode": {
    "name": "ipython",
    "version": 3
   },
   "file_extension": ".py",
   "mimetype": "text/x-python",
   "name": "python",
   "nbconvert_exporter": "python",
   "pygments_lexer": "ipython3",
   "version": "3.9.13"
  }
 },
 "nbformat": 4,
 "nbformat_minor": 5
}
