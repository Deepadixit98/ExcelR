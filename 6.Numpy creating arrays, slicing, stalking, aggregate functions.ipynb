{
 "cells": [
  {
   "cell_type": "markdown",
   "id": "b6c55a1c",
   "metadata": {},
   "source": [
    "# Numpy\n",
    "\n",
    "- NumPy is a general-purpose array-processing package.\n",
    "- Numpy was created to work with multidmensional arrays.\n",
    "- It is the fundamental package for scientific computing with Python.\n",
    "- It is open-source library."
   ]
  },
  {
   "cell_type": "markdown",
   "id": "aa77efd3",
   "metadata": {},
   "source": [
    "# Why Use NumPy?\n",
    "- In Python we have lists that serve the purpose of arrays, but they are slow to process.\n",
    "\n",
    "- NumPy aims to provide an array object that is up to 50x faster than traditional Python lists.\n",
    "\n",
    "- The array object in NumPy is called ndarray, it provides a lot of supporting functions that make working with ndarray very easy.\n",
    "\n",
    "- Arrays are very frequently used in data science, where speed and resources are very important."
   ]
  },
  {
   "cell_type": "code",
   "execution_count": 1,
   "id": "a47c77af",
   "metadata": {},
   "outputs": [],
   "source": [
    "# installing necessary library need following comand \n",
    "#  we use \"!\" before command (i.e. pip install) to avoid restrating the kernal\n",
    "# !pip install numpy"
   ]
  },
  {
   "cell_type": "code",
   "execution_count": 2,
   "id": "d1adccfe",
   "metadata": {
    "ExecuteTime": {
     "end_time": "2022-11-29T04:50:05.591487Z",
     "start_time": "2022-11-29T04:50:01.611124Z"
    }
   },
   "outputs": [],
   "source": [
    "#Importing necessary library\n",
    "import numpy as np "
   ]
  },
  {
   "cell_type": "markdown",
   "id": "437e41e4",
   "metadata": {},
   "source": [
    "#### Array Creation"
   ]
  },
  {
   "cell_type": "code",
   "execution_count": 3,
   "id": "171b2621",
   "metadata": {
    "ExecuteTime": {
     "end_time": "2022-11-29T04:52:33.779595Z",
     "start_time": "2022-11-29T04:52:33.759003Z"
    }
   },
   "outputs": [
    {
     "data": {
      "text/plain": [
       "numpy.ndarray"
      ]
     },
     "execution_count": 3,
     "metadata": {},
     "output_type": "execute_result"
    }
   ],
   "source": [
    "a = np.array(10)\n",
    "type(a)"
   ]
  },
  {
   "cell_type": "markdown",
   "id": "064f70a3",
   "metadata": {},
   "source": [
    "##### Zero dimensional array"
   ]
  },
  {
   "cell_type": "code",
   "execution_count": 7,
   "id": "ed58490f",
   "metadata": {},
   "outputs": [
    {
     "data": {
      "text/plain": [
       "array(10)"
      ]
     },
     "execution_count": 7,
     "metadata": {},
     "output_type": "execute_result"
    }
   ],
   "source": [
    "z = np.array(10)\n",
    "z"
   ]
  },
  {
   "cell_type": "code",
   "execution_count": 9,
   "id": "f6b5d851",
   "metadata": {
    "ExecuteTime": {
     "end_time": "2022-11-29T04:53:27.634551Z",
     "start_time": "2022-11-29T04:53:27.612955Z"
    }
   },
   "outputs": [
    {
     "data": {
      "text/plain": [
       "0"
      ]
     },
     "execution_count": 9,
     "metadata": {},
     "output_type": "execute_result"
    }
   ],
   "source": [
    "# checking dimensions \n",
    "z.ndim"
   ]
  },
  {
   "cell_type": "markdown",
   "id": "f3fba4ca",
   "metadata": {},
   "source": [
    "##### One dimensional array"
   ]
  },
  {
   "cell_type": "code",
   "execution_count": 31,
   "id": "33d89455",
   "metadata": {},
   "outputs": [
    {
     "name": "stdout",
     "output_type": "stream",
     "text": [
      "1\n"
     ]
    },
    {
     "data": {
      "text/plain": [
       "array([10, 12, 12, 15])"
      ]
     },
     "execution_count": 31,
     "metadata": {},
     "output_type": "execute_result"
    }
   ],
   "source": [
    "o = np.array([10,12,12,15])\n",
    "print (o.ndim)\n",
    "o"
   ]
  },
  {
   "cell_type": "markdown",
   "id": "7b738421",
   "metadata": {},
   "source": [
    "##### Two dimensional array"
   ]
  },
  {
   "cell_type": "code",
   "execution_count": 32,
   "id": "f3bf75e0",
   "metadata": {
    "ExecuteTime": {
     "end_time": "2022-11-29T04:54:29.555570Z",
     "start_time": "2022-11-29T04:54:29.544825Z"
    }
   },
   "outputs": [
    {
     "name": "stdout",
     "output_type": "stream",
     "text": [
      "2\n"
     ]
    },
    {
     "data": {
      "text/plain": [
       "array([[10, 10, 12, 14, 15]])"
      ]
     },
     "execution_count": 32,
     "metadata": {},
     "output_type": "execute_result"
    }
   ],
   "source": [
    "t = np.array([[10,10,12,14,15]])\n",
    "print(t.ndim)\n",
    "t"
   ]
  },
  {
   "cell_type": "markdown",
   "id": "65f69473",
   "metadata": {},
   "source": [
    "##### Three dimensional array"
   ]
  },
  {
   "cell_type": "code",
   "execution_count": 26,
   "id": "8fc45c90",
   "metadata": {
    "ExecuteTime": {
     "end_time": "2022-11-29T04:55:54.666049Z",
     "start_time": "2022-11-29T04:55:54.650752Z"
    }
   },
   "outputs": [
    {
     "data": {
      "text/plain": [
       "array([[[10, 12, 14, 15, 16]]])"
      ]
     },
     "execution_count": 26,
     "metadata": {},
     "output_type": "execute_result"
    }
   ],
   "source": [
    "th = np.array([[[10,12,14,15,16]]])\n",
    "th"
   ]
  },
  {
   "cell_type": "code",
   "execution_count": 25,
   "id": "6aace275",
   "metadata": {
    "ExecuteTime": {
     "end_time": "2022-11-29T04:56:01.203185Z",
     "start_time": "2022-11-29T04:56:01.188913Z"
    }
   },
   "outputs": [
    {
     "data": {
      "text/plain": [
       "3"
      ]
     },
     "execution_count": 25,
     "metadata": {},
     "output_type": "execute_result"
    }
   ],
   "source": [
    "th.ndim"
   ]
  },
  {
   "cell_type": "markdown",
   "id": "fc8ba0f3",
   "metadata": {},
   "source": [
    "##### Change the data type of the array elements."
   ]
  },
  {
   "cell_type": "code",
   "execution_count": 27,
   "id": "85149403",
   "metadata": {
    "ExecuteTime": {
     "end_time": "2022-11-29T04:57:52.859705Z",
     "start_time": "2022-11-29T04:57:52.847167Z"
    }
   },
   "outputs": [],
   "source": [
    "a = np.array([10,15,52,54])"
   ]
  },
  {
   "cell_type": "code",
   "execution_count": 28,
   "id": "7fb16796",
   "metadata": {
    "ExecuteTime": {
     "end_time": "2022-11-29T04:57:56.114886Z",
     "start_time": "2022-11-29T04:57:56.108622Z"
    }
   },
   "outputs": [
    {
     "data": {
      "text/plain": [
       "dtype('int32')"
      ]
     },
     "execution_count": 28,
     "metadata": {},
     "output_type": "execute_result"
    }
   ],
   "source": [
    "a.dtype"
   ]
  },
  {
   "cell_type": "code",
   "execution_count": 33,
   "id": "afbbe1ba",
   "metadata": {
    "ExecuteTime": {
     "end_time": "2022-11-29T04:59:54.170835Z",
     "start_time": "2022-11-29T04:59:54.151760Z"
    }
   },
   "outputs": [
    {
     "name": "stdout",
     "output_type": "stream",
     "text": [
      "float64\n",
      "hello\n"
     ]
    },
    {
     "data": {
      "text/plain": [
       "array([10., 15., 52., 54.])"
      ]
     },
     "execution_count": 33,
     "metadata": {},
     "output_type": "execute_result"
    }
   ],
   "source": [
    "a = np.array([10,15,52,54], dtype = 'float')\n",
    "print(a.dtype)\n",
    "print('hello')\n",
    "a"
   ]
  },
  {
   "cell_type": "markdown",
   "id": "2ff2c8a5",
   "metadata": {},
   "source": [
    "# Other ways of creating an array\n",
    "1. arange\n",
    "2. linspace\n",
    "3. zeros\n",
    "4. ones\n",
    "5. random"
   ]
  },
  {
   "cell_type": "markdown",
   "id": "6ddeea29",
   "metadata": {},
   "source": [
    "### 1.arange"
   ]
  },
  {
   "cell_type": "code",
   "execution_count": 45,
   "id": "5e2d8474",
   "metadata": {
    "ExecuteTime": {
     "end_time": "2022-11-29T05:03:42.370860Z",
     "start_time": "2022-11-29T05:03:42.352955Z"
    }
   },
   "outputs": [
    {
     "data": {
      "text/plain": [
       "array([ 1,  2,  3,  4,  5,  6,  7,  8,  9, 10, 11, 12, 13, 14, 15, 16, 17,\n",
       "       18, 19, 20])"
      ]
     },
     "execution_count": 45,
     "metadata": {},
     "output_type": "execute_result"
    }
   ],
   "source": [
    "a = np.arange(1, 21)\n",
    "a\n",
    "\n",
    "# prints all values from 1-20 excludes upper extreme"
   ]
  },
  {
   "cell_type": "code",
   "execution_count": 46,
   "id": "55cc7e13",
   "metadata": {},
   "outputs": [
    {
     "data": {
      "text/plain": [
       "array([ 1,  3,  5,  7,  9, 11, 13, 15, 17, 19])"
      ]
     },
     "execution_count": 46,
     "metadata": {},
     "output_type": "execute_result"
    }
   ],
   "source": [
    "a = np.arange(1, 21, 2)\n",
    "a\n",
    "\n",
    "# prints alternates values (i.e 2nd values from the first one) from 1-20 excludes upper extreme."
   ]
  },
  {
   "cell_type": "markdown",
   "id": "50eece4b",
   "metadata": {},
   "source": [
    "### 2.linspace\n",
    "- What is the use of NumPy Linspace?\n",
    "\n",
    "The NumPy linspace function creates sequences of evenly spaced values within a defined interval.\n",
    "\n",
    "Essentally, you specify a starting point and an ending point of an interval, \n",
    "\n",
    "and then specify the total number of breakpoints you want within that interval (including the start and end points)."
   ]
  },
  {
   "cell_type": "code",
   "execution_count": 40,
   "id": "f7e04ba3",
   "metadata": {
    "ExecuteTime": {
     "end_time": "2022-11-29T05:06:52.583134Z",
     "start_time": "2022-11-29T05:06:52.562861Z"
    },
    "scrolled": true
   },
   "outputs": [
    {
     "data": {
      "text/plain": [
       "array([1.        , 1.28571429, 1.57142857, 1.85714286, 2.14285714,\n",
       "       2.42857143, 2.71428571, 3.        , 3.28571429, 3.57142857,\n",
       "       3.85714286, 4.14285714, 4.42857143, 4.71428571, 5.        ])"
      ]
     },
     "execution_count": 40,
     "metadata": {},
     "output_type": "execute_result"
    }
   ],
   "source": [
    "b = np.linspace(1,5,15)\n",
    "b"
   ]
  },
  {
   "cell_type": "code",
   "execution_count": 47,
   "id": "a20b195d",
   "metadata": {},
   "outputs": [
    {
     "data": {
      "text/plain": [
       "(array([1.        , 1.28571429, 1.57142857, 1.85714286, 2.14285714,\n",
       "        2.42857143, 2.71428571, 3.        , 3.28571429, 3.57142857,\n",
       "        3.85714286, 4.14285714, 4.42857143, 4.71428571, 5.        ]),\n",
       " 0.2857142857142857)"
      ]
     },
     "execution_count": 47,
     "metadata": {},
     "output_type": "execute_result"
    }
   ],
   "source": [
    "b = np.linspace(1,5,15, retstep=True)\n",
    "b\n",
    "\n",
    "#  reststep gives the actual difference between 2 sequntial values of array created by linspace"
   ]
  },
  {
   "cell_type": "markdown",
   "id": "63666967",
   "metadata": {},
   "source": [
    "### 3.zeros"
   ]
  },
  {
   "cell_type": "code",
   "execution_count": 48,
   "id": "12271dea",
   "metadata": {
    "ExecuteTime": {
     "end_time": "2022-11-29T05:08:21.116502Z",
     "start_time": "2022-11-29T05:08:21.095583Z"
    }
   },
   "outputs": [
    {
     "data": {
      "text/plain": [
       "array([[0., 0.],\n",
       "       [0., 0.]])"
      ]
     },
     "execution_count": 48,
     "metadata": {},
     "output_type": "execute_result"
    }
   ],
   "source": [
    "z = np.zeros([2,2])\n",
    "z"
   ]
  },
  {
   "cell_type": "markdown",
   "id": "a1accf1e",
   "metadata": {},
   "source": [
    "### 4.ones"
   ]
  },
  {
   "cell_type": "code",
   "execution_count": 51,
   "id": "a805f60a",
   "metadata": {
    "ExecuteTime": {
     "end_time": "2022-11-29T05:08:37.156165Z",
     "start_time": "2022-11-29T05:08:37.141418Z"
    }
   },
   "outputs": [
    {
     "data": {
      "text/plain": [
       "array([[1., 1., 1., 1., 1.],\n",
       "       [1., 1., 1., 1., 1.],\n",
       "       [1., 1., 1., 1., 1.],\n",
       "       [1., 1., 1., 1., 1.],\n",
       "       [1., 1., 1., 1., 1.]])"
      ]
     },
     "execution_count": 51,
     "metadata": {},
     "output_type": "execute_result"
    }
   ],
   "source": [
    "ones = np.ones([5,5])\n",
    "ones"
   ]
  },
  {
   "cell_type": "markdown",
   "id": "d9321c58",
   "metadata": {},
   "source": [
    "### 4.Randaom\n",
    "- has two sub functions rand and randint\n",
    "- rand that gives randon numerical values\n",
    "- and randint that gives integers only "
   ]
  },
  {
   "cell_type": "code",
   "execution_count": 53,
   "id": "cc30dca0",
   "metadata": {
    "ExecuteTime": {
     "end_time": "2022-11-29T05:10:04.847142Z",
     "start_time": "2022-11-29T05:10:04.837605Z"
    }
   },
   "outputs": [
    {
     "data": {
      "text/plain": [
       "array([[0.78211666, 0.21096961, 0.79902477, 0.66123502, 0.02360835],\n",
       "       [0.64854017, 0.64376033, 0.71084284, 0.77160542, 0.72038471],\n",
       "       [0.16007297, 0.40268177, 0.25245734, 0.28023712, 0.61614788],\n",
       "       [0.76304418, 0.94964481, 0.9306832 , 0.7509292 , 0.13599026],\n",
       "       [0.09892113, 0.3310644 , 0.38921465, 0.2724602 , 0.04324854]])"
      ]
     },
     "execution_count": 53,
     "metadata": {},
     "output_type": "execute_result"
    }
   ],
   "source": [
    "r = np.random.rand(5,5)\n",
    "r"
   ]
  },
  {
   "cell_type": "code",
   "execution_count": 54,
   "id": "9618e374",
   "metadata": {
    "ExecuteTime": {
     "end_time": "2022-11-29T05:12:22.867598Z",
     "start_time": "2022-11-29T05:12:22.859082Z"
    }
   },
   "outputs": [
    {
     "data": {
      "text/plain": [
       "array([4, 1, 3, 4, 3, 3, 1, 1, 2, 1])"
      ]
     },
     "execution_count": 54,
     "metadata": {},
     "output_type": "execute_result"
    }
   ],
   "source": [
    "r = np.random.randint(5, size = 10)\n",
    "r"
   ]
  },
  {
   "cell_type": "markdown",
   "id": "fb232506",
   "metadata": {},
   "source": [
    "# Slicing and Indexing of arrays"
   ]
  },
  {
   "cell_type": "code",
   "execution_count": 55,
   "id": "31ec533c",
   "metadata": {
    "ExecuteTime": {
     "end_time": "2022-11-29T05:13:19.095911Z",
     "start_time": "2022-11-29T05:13:19.086237Z"
    }
   },
   "outputs": [
    {
     "data": {
      "text/plain": [
       "array([[1, 2, 3],\n",
       "       [4, 5, 6]])"
      ]
     },
     "execution_count": 55,
     "metadata": {},
     "output_type": "execute_result"
    }
   ],
   "source": [
    "a = np.array([[1,2,3],[4,5,6]])\n",
    "a"
   ]
  },
  {
   "cell_type": "code",
   "execution_count": 57,
   "id": "778c4213",
   "metadata": {},
   "outputs": [],
   "source": [
    "#  slicing \n",
    "#         (0,0) (0,1) (0,2) \n",
    "# array([[1,      2,    3],\n",
    "#        [4,      5,    6]])\n",
    "#        (1,0)  (1,1) (1,2)"
   ]
  },
  {
   "cell_type": "code",
   "execution_count": 58,
   "id": "4fa2ded3",
   "metadata": {
    "ExecuteTime": {
     "end_time": "2022-11-29T05:16:45.616483Z",
     "start_time": "2022-11-29T05:16:45.602524Z"
    }
   },
   "outputs": [
    {
     "data": {
      "text/plain": [
       "1"
      ]
     },
     "execution_count": 58,
     "metadata": {},
     "output_type": "execute_result"
    }
   ],
   "source": [
    "a[0,0]"
   ]
  },
  {
   "cell_type": "code",
   "execution_count": 59,
   "id": "12788d97",
   "metadata": {
    "ExecuteTime": {
     "end_time": "2022-11-29T05:17:03.422151Z",
     "start_time": "2022-11-29T05:17:03.409141Z"
    }
   },
   "outputs": [
    {
     "data": {
      "text/plain": [
       "6"
      ]
     },
     "execution_count": 59,
     "metadata": {},
     "output_type": "execute_result"
    }
   ],
   "source": [
    "a[1,2]"
   ]
  },
  {
   "cell_type": "code",
   "execution_count": null,
   "id": "31d1bc73",
   "metadata": {},
   "outputs": [],
   "source": [
    "#  values in range "
   ]
  },
  {
   "cell_type": "code",
   "execution_count": 42,
   "id": "a9e56f2a",
   "metadata": {
    "ExecuteTime": {
     "end_time": "2022-11-29T05:17:37.376830Z",
     "start_time": "2022-11-29T05:17:37.368827Z"
    }
   },
   "outputs": [
    {
     "data": {
      "text/plain": [
       "array([2, 3])"
      ]
     },
     "execution_count": 42,
     "metadata": {},
     "output_type": "execute_result"
    }
   ],
   "source": [
    "a[0,1:]"
   ]
  },
  {
   "cell_type": "code",
   "execution_count": 43,
   "id": "89729aad",
   "metadata": {
    "ExecuteTime": {
     "end_time": "2022-11-29T05:18:26.512850Z",
     "start_time": "2022-11-29T05:18:26.504182Z"
    }
   },
   "outputs": [
    {
     "data": {
      "text/plain": [
       "array([[2, 3],\n",
       "       [5, 6]])"
      ]
     },
     "execution_count": 43,
     "metadata": {},
     "output_type": "execute_result"
    }
   ],
   "source": [
    "a[0:,1:]"
   ]
  },
  {
   "cell_type": "code",
   "execution_count": 60,
   "id": "f4332808",
   "metadata": {
    "ExecuteTime": {
     "end_time": "2022-11-29T05:18:43.292979Z",
     "start_time": "2022-11-29T05:18:43.272876Z"
    }
   },
   "outputs": [],
   "source": [
    "#  printing any two values with help of index"
   ]
  },
  {
   "cell_type": "code",
   "execution_count": 61,
   "id": "d3cd476b",
   "metadata": {
    "ExecuteTime": {
     "end_time": "2022-11-29T05:20:02.672925Z",
     "start_time": "2022-11-29T05:20:02.659318Z"
    }
   },
   "outputs": [
    {
     "data": {
      "text/plain": [
       "array([1, 6])"
      ]
     },
     "execution_count": 61,
     "metadata": {},
     "output_type": "execute_result"
    }
   ],
   "source": [
    "#1 and 6\n",
    "a[[0,1],[0,2]]"
   ]
  },
  {
   "cell_type": "code",
   "execution_count": 63,
   "id": "eb57de31",
   "metadata": {
    "ExecuteTime": {
     "end_time": "2022-11-29T05:20:55.128045Z",
     "start_time": "2022-11-29T05:20:55.121528Z"
    }
   },
   "outputs": [
    {
     "data": {
      "text/plain": [
       "array([3, 4])"
      ]
     },
     "execution_count": 63,
     "metadata": {},
     "output_type": "execute_result"
    }
   ],
   "source": [
    "#3 and 4\n",
    "a[[0,1],[2,0]]"
   ]
  },
  {
   "cell_type": "markdown",
   "id": "57bb1165",
   "metadata": {},
   "source": [
    "# Reshaping the arrays \n",
    "- changing/moulding dimesions i.e. no.of rows or coloums"
   ]
  },
  {
   "cell_type": "code",
   "execution_count": 65,
   "id": "2834e07a",
   "metadata": {
    "ExecuteTime": {
     "end_time": "2022-11-29T05:30:31.046694Z",
     "start_time": "2022-11-29T05:30:31.034598Z"
    }
   },
   "outputs": [
    {
     "data": {
      "text/plain": [
       "array([[0.48375279, 0.46271429],\n",
       "       [0.64581117, 0.91243658],\n",
       "       [0.53398425, 0.69959387],\n",
       "       [0.89622179, 0.14517935],\n",
       "       [0.08608879, 0.12705991]])"
      ]
     },
     "execution_count": 65,
     "metadata": {},
     "output_type": "execute_result"
    }
   ],
   "source": [
    "a = np.random.rand(5,2)\n",
    "a"
   ]
  },
  {
   "cell_type": "code",
   "execution_count": 66,
   "id": "7d69fcc6",
   "metadata": {
    "ExecuteTime": {
     "end_time": "2022-11-29T05:31:52.889824Z",
     "start_time": "2022-11-29T05:31:52.870007Z"
    }
   },
   "outputs": [
    {
     "data": {
      "text/plain": [
       "array([[0.48375279, 0.46271429, 0.64581117, 0.91243658, 0.53398425],\n",
       "       [0.69959387, 0.89622179, 0.14517935, 0.08608879, 0.12705991]])"
      ]
     },
     "execution_count": 66,
     "metadata": {},
     "output_type": "execute_result"
    }
   ],
   "source": [
    "a.reshape(2,5)"
   ]
  },
  {
   "cell_type": "code",
   "execution_count": 67,
   "id": "8234d794",
   "metadata": {
    "ExecuteTime": {
     "end_time": "2022-11-29T05:31:59.138023Z",
     "start_time": "2022-11-29T05:31:59.127494Z"
    }
   },
   "outputs": [
    {
     "data": {
      "text/plain": [
       "array([[0.48375279],\n",
       "       [0.46271429],\n",
       "       [0.64581117],\n",
       "       [0.91243658],\n",
       "       [0.53398425],\n",
       "       [0.69959387],\n",
       "       [0.89622179],\n",
       "       [0.14517935],\n",
       "       [0.08608879],\n",
       "       [0.12705991]])"
      ]
     },
     "execution_count": 67,
     "metadata": {},
     "output_type": "execute_result"
    }
   ],
   "source": [
    "a.reshape(10,1)\n",
    "#  observe brackets "
   ]
  },
  {
   "cell_type": "code",
   "execution_count": 68,
   "id": "e1cc7e02",
   "metadata": {
    "ExecuteTime": {
     "end_time": "2022-11-29T05:32:20.778678Z",
     "start_time": "2022-11-29T05:32:20.764234Z"
    }
   },
   "outputs": [
    {
     "data": {
      "text/plain": [
       "array([[0.48375279, 0.46271429, 0.64581117, 0.91243658, 0.53398425,\n",
       "        0.69959387, 0.89622179, 0.14517935, 0.08608879, 0.12705991]])"
      ]
     },
     "execution_count": 68,
     "metadata": {},
     "output_type": "execute_result"
    }
   ],
   "source": [
    "a.reshape(1,10)\n",
    "#  observe brackets "
   ]
  },
  {
   "cell_type": "code",
   "execution_count": 72,
   "id": "5a89a577",
   "metadata": {
    "ExecuteTime": {
     "end_time": "2022-11-29T05:34:04.703740Z",
     "start_time": "2022-11-29T05:34:04.689128Z"
    }
   },
   "outputs": [
    {
     "data": {
      "text/plain": [
       "array([[0.48375279, 0.46271429],\n",
       "       [0.64581117, 0.91243658],\n",
       "       [0.53398425, 0.69959387],\n",
       "       [0.89622179, 0.14517935],\n",
       "       [0.08608879, 0.12705991]])"
      ]
     },
     "execution_count": 72,
     "metadata": {},
     "output_type": "execute_result"
    }
   ],
   "source": [
    "a.reshape(5,-1)\n",
    "#  observe brackets "
   ]
  },
  {
   "cell_type": "markdown",
   "id": "3bdf9c2b",
   "metadata": {},
   "source": [
    "# Aggregate Functions\n",
    "\n",
    "- The Python numpy aggregate functions are sum, min, max, mean, average, product, median, standard deviation, variance,  percentile, and corrcoef."
   ]
  },
  {
   "cell_type": "code",
   "execution_count": 73,
   "id": "bbff223c",
   "metadata": {
    "ExecuteTime": {
     "end_time": "2022-11-29T05:36:29.698664Z",
     "start_time": "2022-11-29T05:36:29.684740Z"
    }
   },
   "outputs": [
    {
     "data": {
      "text/plain": [
       "0.08608878858331859"
      ]
     },
     "execution_count": 73,
     "metadata": {},
     "output_type": "execute_result"
    }
   ],
   "source": [
    "a.min()"
   ]
  },
  {
   "cell_type": "code",
   "execution_count": 74,
   "id": "901a98ac",
   "metadata": {
    "ExecuteTime": {
     "end_time": "2022-11-29T05:36:40.350951Z",
     "start_time": "2022-11-29T05:36:40.339356Z"
    }
   },
   "outputs": [
    {
     "data": {
      "text/plain": [
       "0.2876287086705322"
      ]
     },
     "execution_count": 74,
     "metadata": {},
     "output_type": "execute_result"
    }
   ],
   "source": [
    "a.std()"
   ]
  },
  {
   "cell_type": "code",
   "execution_count": 75,
   "id": "1a74f686",
   "metadata": {
    "ExecuteTime": {
     "end_time": "2022-11-29T05:36:45.475682Z",
     "start_time": "2022-11-29T05:36:45.467156Z"
    }
   },
   "outputs": [
    {
     "data": {
      "text/plain": [
       "0.0827302740514779"
      ]
     },
     "execution_count": 75,
     "metadata": {},
     "output_type": "execute_result"
    }
   ],
   "source": [
    "a.var()"
   ]
  },
  {
   "cell_type": "code",
   "execution_count": 76,
   "id": "d2a2c5d9",
   "metadata": {
    "ExecuteTime": {
     "end_time": "2022-11-29T05:36:54.323191Z",
     "start_time": "2022-11-29T05:36:54.304872Z"
    }
   },
   "outputs": [
    {
     "data": {
      "text/plain": [
       "0.4992842765460579"
      ]
     },
     "execution_count": 76,
     "metadata": {},
     "output_type": "execute_result"
    }
   ],
   "source": [
    "a.mean()"
   ]
  },
  {
   "cell_type": "markdown",
   "id": "f5a64e45",
   "metadata": {},
   "source": [
    "# Stacking \n",
    "- Stacking is used to join 2 different arrays.\n",
    "- Vertical stacking\n",
    "- Horizontal stacking"
   ]
  },
  {
   "cell_type": "code",
   "execution_count": 81,
   "id": "2cc2ea35",
   "metadata": {
    "ExecuteTime": {
     "end_time": "2022-11-29T05:39:50.978674Z",
     "start_time": "2022-11-29T05:39:50.969550Z"
    }
   },
   "outputs": [],
   "source": [
    "a = np.array([1,2,3,4,5])\n",
    "b = np.array([4,5,6,8,7])"
   ]
  },
  {
   "cell_type": "code",
   "execution_count": 79,
   "id": "7af3fa15",
   "metadata": {
    "ExecuteTime": {
     "end_time": "2022-11-29T05:40:05.947809Z",
     "start_time": "2022-11-29T05:40:05.938976Z"
    }
   },
   "outputs": [
    {
     "data": {
      "text/plain": [
       "array([1, 2, 3, 4, 5, 4, 5, 6, 8, 7])"
      ]
     },
     "execution_count": 79,
     "metadata": {},
     "output_type": "execute_result"
    }
   ],
   "source": [
    "#  \".hstalk\" staks/adds/puts up arrays in one row i.e. horizontaly \n",
    "np.hstack([a,b])"
   ]
  },
  {
   "cell_type": "code",
   "execution_count": 80,
   "id": "fda110d8",
   "metadata": {
    "ExecuteTime": {
     "end_time": "2022-11-29T05:40:40.279680Z",
     "start_time": "2022-11-29T05:40:40.259612Z"
    }
   },
   "outputs": [
    {
     "data": {
      "text/plain": [
       "array([[1, 2, 3, 4, 5],\n",
       "       [4, 5, 6, 8, 7]])"
      ]
     },
     "execution_count": 80,
     "metadata": {},
     "output_type": "execute_result"
    }
   ],
   "source": [
    "#  \".vstalk\" staks/adds/puts up arrays in columes i.e. verticaly \n",
    "np.vstack([a,b])"
   ]
  },
  {
   "cell_type": "code",
   "execution_count": null,
   "id": "f04c6183",
   "metadata": {},
   "outputs": [],
   "source": [
    "# end"
   ]
  }
 ],
 "metadata": {
  "_draft": {
   "nbviewer_url": "https://gist.github.com/21c911ff193396ba12c34a5385ab8119"
  },
  "gist": {
   "data": {
    "description": "ExcelR/Numpy.ipynb",
    "public": true
   },
   "id": "21c911ff193396ba12c34a5385ab8119"
  },
  "kernelspec": {
   "display_name": "Python 3 (ipykernel)",
   "language": "python",
   "name": "python3"
  },
  "language_info": {
   "codemirror_mode": {
    "name": "ipython",
    "version": 3
   },
   "file_extension": ".py",
   "mimetype": "text/x-python",
   "name": "python",
   "nbconvert_exporter": "python",
   "pygments_lexer": "ipython3",
   "version": "3.9.13"
  }
 },
 "nbformat": 4,
 "nbformat_minor": 5
}
